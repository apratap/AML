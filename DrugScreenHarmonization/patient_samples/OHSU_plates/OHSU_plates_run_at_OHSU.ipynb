{
 "cells": [
  {
   "cell_type": "code",
   "execution_count": 1,
   "metadata": {
    "collapsed": false
   },
   "outputs": [
    {
     "name": "stdout",
     "output_type": "stream",
     "text": [
      "Welcome, Abhishek Pratap!\n"
     ]
    }
   ],
   "source": [
    "import pandas as pd\n",
    "import sys\n",
    "import os\n",
    "import synapseclient\n",
    "import itertools\n",
    "import numpy as np\n",
    "import re\n",
    "\n",
    "#local libs\n",
    "sys.path.append(\"/home/apratap/dev/appys/lib/\")\n",
    "import synapseutils\n",
    "import utils\n",
    "\n",
    "syn = synapseclient.login()"
   ]
  },
  {
   "cell_type": "markdown",
   "metadata": {},
   "source": [
    "### Source the functions for processing OHSU plates"
   ]
  },
  {
   "cell_type": "code",
   "execution_count": 2,
   "metadata": {
    "collapsed": false
   },
   "outputs": [
    {
     "name": "stdout",
     "output_type": "stream",
     "text": [
      "Welcome, Abhishek Pratap!\n"
     ]
    }
   ],
   "source": [
    "#common plate reader functions\n",
    "%run '~/dev/AML/DrugScreenHarmonization/common_plate_reader_functions.ipynb'"
   ]
  },
  {
   "cell_type": "markdown",
   "metadata": {},
   "source": [
    "### Get data for all OHSU Samples done at Phoenix "
   ]
  },
  {
   "cell_type": "code",
   "execution_count": 3,
   "metadata": {
    "collapsed": false
   },
   "outputs": [],
   "source": [
    "dataFiles_df = syn.query(\"select id from entity where parentId == 'syn4940877'\")\n",
    "dataFiles_df = synapseutils.query2df(dataFiles_df)\n",
    "dataFiles = [ syn.get(x).path for x in dataFiles_df.id ]"
   ]
  },
  {
   "cell_type": "markdown",
   "metadata": {},
   "source": [
    "### Process plate reader data"
   ]
  },
  {
   "cell_type": "code",
   "execution_count": 4,
   "metadata": {
    "collapsed": false
   },
   "outputs": [],
   "source": [
    "mdata = [ os.path.basename(x).replace('_RAW.xlsx','').split('_') for x in dataFiles ]\n",
    "mdata = pd.DataFrame.from_records(mdata, columns=['plate_origin', 'plate_version', 'batch', 'run_by', 'run_at', 'run_date',\n",
    "                                                             'sampleID','assay', 'plate_reader','read_time'])\n",
    "mdata['file'] = dataFiles"
   ]
  },
  {
   "cell_type": "code",
   "execution_count": 5,
   "metadata": {
    "collapsed": false
   },
   "outputs": [],
   "source": [
    "data = list()\n",
    "for num,row in mdata.iterrows():\n",
    "    temp_data = process_OHSU_plates_run_at_OHSU(row.file)    \n",
    "    #add the metadata to processed raw data\n",
    "    for key,val in row.iterkv():\n",
    "        temp_data[key]=val\n",
    "    data.append(temp_data)\n",
    "#final pandas df\n",
    "data  = pd.concat(data, axis=0)"
   ]
  },
  {
   "cell_type": "code",
   "execution_count": 6,
   "metadata": {
    "collapsed": false,
    "scrolled": true
   },
   "outputs": [
    {
     "data": {
      "text/plain": [
       "MarcTest123_v6    1152\n",
       "FDA_v3             384\n",
       "dtype: int64"
      ]
     },
     "execution_count": 6,
     "metadata": {},
     "output_type": "execute_result"
    }
   ],
   "source": [
    "#Fix plate version to match \n",
    "data.ix[data.plate_version == 'MarcTest123', 'plate_version'] = 'MarcTest123_v6'\n",
    "data.ix[data.plate_version == 'FDA v3', 'plate_version'] = 'FDA_v3'\n",
    "data.plate_version.value_counts()"
   ]
  },
  {
   "cell_type": "markdown",
   "metadata": {},
   "source": [
    "### Join with the plate map to get the meta data"
   ]
  },
  {
   "cell_type": "code",
   "execution_count": 7,
   "metadata": {
    "collapsed": true
   },
   "outputs": [],
   "source": [
    "OHSU_plate_maps = pd.concat([OHSU_v6_plateMap, OHSU_FDA_plateMap], axis=0)\n",
    "data = pd.merge(OHSU_plate_maps,data, how='right', \n",
    "                            left_on = ['plate_version','Plate_Num', 'Well_Row', 'Well_Column'],\n",
    "                            right_on = ['plate_version', 'plateNum' ,'row', 'col'])"
   ]
  },
  {
   "cell_type": "markdown",
   "metadata": {},
   "source": [
    "### Normalize the plate data"
   ]
  },
  {
   "cell_type": "code",
   "execution_count": 9,
   "metadata": {
    "collapsed": false
   },
   "outputs": [
    {
     "data": {
      "text/plain": [
       "Index([               u'Concentration',                         u'Drug',\n",
       "                    u'Inhibitor_Panel',                    u'Plate_Num',\n",
       "                               u'Unit',                  u'Well_Column',\n",
       "                           u'Well_Row', u'drug_replicate_across_plates',\n",
       "                      u'plate_version',                          u'row',\n",
       "                                u'col',                        u'value',\n",
       "                           u'plateNum',                 u'plate_origin',\n",
       "                              u'batch',                       u'run_by',\n",
       "                             u'run_at',                     u'run_date',\n",
       "                           u'sampleID',                        u'assay',\n",
       "                       u'plate_reader',                    u'read_time',\n",
       "                               u'file'],\n",
       "      dtype='object')"
      ]
     },
     "execution_count": 9,
     "metadata": {},
     "output_type": "execute_result"
    }
   ],
   "source": [
    "data.columns"
   ]
  },
  {
   "cell_type": "code",
   "execution_count": 19,
   "metadata": {
    "collapsed": false
   },
   "outputs": [],
   "source": [
    "grp = data.groupby(['plate_version', 'plate_origin' ,'run_at','assay', 'Plate_Num' , \n",
    "                    'plate_reader' ,'read_time', 'run_date'])\n",
    "norm_factors = grp.apply(calc_norm_factors).reset_index()\n",
    "#merge the normFactors\n",
    "data = pd.merge(data, norm_factors)\n",
    "#normValue\n",
    "data['normValue'] = (data.value - data.pos_control) / ( data.median_DMSO - data.pos_control)\n",
    "data.normValue = data.normValue.map(lambda x: np.around(x, 4))"
   ]
  },
  {
   "cell_type": "code",
   "execution_count": 21,
   "metadata": {
    "collapsed": false
   },
   "outputs": [],
   "source": [
    "required_columns = ['plate_version', 'plateNum','plate_origin' , 'run_at'  ,'run_date','sampleID','assay' ,\n",
    "                    'plate_reader', 'read_time' , 'row' ,'col', 'Drug', 'drug_replicate_across_plates', 'Concentration', 'value', 'Unit', \n",
    "                    'normValue' , 'pos_control' ,'median_DMSO']\n",
    "data = data[required_columns]"
   ]
  },
  {
   "cell_type": "markdown",
   "metadata": {},
   "source": [
    "### Upload to Synapse"
   ]
  },
  {
   "cell_type": "code",
   "execution_count": 18,
   "metadata": {
    "collapsed": false
   },
   "outputs": [
    {
     "name": "stdout",
     "output_type": "stream",
     "text": [
      "\n",
      "##################################################\n",
      " Uploading file to Synapse storage \n",
      "##################################################\n",
      "Uploaded Chunks [####################]100.00%     2.1MB/2.1MB patient_sample_on_OHSU_plates_run_at_Phoenix_compiledData.tsv Done...\n",
      "Upload completed in 10 seconds.\n"
     ]
    }
   ],
   "source": [
    "outfile = 'patient_sample_on_OHSU_plates_run_at_OHSU_compiledData.tsv'\n",
    "final_data.to_csv(outfile, sep = '\\t', index=False)\n",
    "syn.store(synapseclient.File(outfile, parentId = 'syn4932396'),\n",
    "          used = dataFiles_df.id.tolist(),\n",
    "          executed ='https://github.com/apratap/AML/blob/master/DrugScreenHarmonization/patient_samples/OHSU_plates/run_at_Phoenix.ipynb')\n",
    "!rm $outfile"
   ]
  },
  {
   "cell_type": "code",
   "execution_count": null,
   "metadata": {
    "collapsed": true
   },
   "outputs": [],
   "source": []
  }
 ],
 "metadata": {
  "kernelspec": {
   "display_name": "Python 2",
   "language": "python",
   "name": "python2"
  },
  "language_info": {
   "codemirror_mode": {
    "name": "ipython",
    "version": 2
   },
   "file_extension": ".py",
   "mimetype": "text/x-python",
   "name": "python",
   "nbconvert_exporter": "python",
   "pygments_lexer": "ipython2",
   "version": "2.7.10"
  }
 },
 "nbformat": 4,
 "nbformat_minor": 0
}
