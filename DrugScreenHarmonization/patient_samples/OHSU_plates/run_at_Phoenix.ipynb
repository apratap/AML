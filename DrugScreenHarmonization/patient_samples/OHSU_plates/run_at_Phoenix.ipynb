{
 "cells": [
  {
   "cell_type": "code",
   "execution_count": 14,
   "metadata": {
    "collapsed": false
   },
   "outputs": [
    {
     "name": "stdout",
     "output_type": "stream",
     "text": [
      "Welcome, Abhishek Pratap!\n"
     ]
    }
   ],
   "source": [
    "import pandas as pd\n",
    "import sys\n",
    "import os\n",
    "import synapseclient\n",
    "import itertools\n",
    "import numpy as np\n",
    "import re\n",
    "\n",
    "#local libs\n",
    "sys.path.append(\"/home/apratap/dev/appys/lib/\")\n",
    "import synapseutils\n",
    "import utils\n",
    "\n",
    "syn = synapseclient.login()"
   ]
  },
  {
   "cell_type": "markdown",
   "metadata": {},
   "source": [
    "### Source the functions for processing OHSU plates"
   ]
  },
  {
   "cell_type": "code",
   "execution_count": 15,
   "metadata": {
    "collapsed": false
   },
   "outputs": [
    {
     "name": "stdout",
     "output_type": "stream",
     "text": [
      "Welcome, Abhishek Pratap!\n"
     ]
    }
   ],
   "source": [
    "#plate maps\n",
    "%run '/home/apratap/dev/AML/DrugScreenHarmonization/OHSU_plates/OHSU_plateMaps.py'\n",
    "\n",
    "#plate reader functions\n",
    "%run '~/dev/AML/DrugScreenHarmonization/OHSU_plates/common_plate_reader_functions.ipynb'"
   ]
  },
  {
   "cell_type": "markdown",
   "metadata": {},
   "source": [
    "### Get data for all OHSU Samples done at Phoenix "
   ]
  },
  {
   "cell_type": "code",
   "execution_count": 16,
   "metadata": {
    "collapsed": false
   },
   "outputs": [],
   "source": [
    "dataFiles_df = syn.query(\"select id from entity where parentId == 'syn4932092'\")\n",
    "dataFiles_df = synapseutils.query2df(dataFiles_df)\n",
    "dataFiles = [ syn.get(x).path for x in dataFiles_df.id ]"
   ]
  },
  {
   "cell_type": "markdown",
   "metadata": {},
   "source": [
    "### Process ENV plate reader data"
   ]
  },
  {
   "cell_type": "code",
   "execution_count": 17,
   "metadata": {
    "collapsed": false
   },
   "outputs": [],
   "source": [
    "dataFiles_ENV_reader = [ x for x in dataFiles if x.find('Env') != -1]\n",
    "mdata_ENV_reader = [ os.path.basename(x).replace('.xlsx','').split('_') for x in dataFiles_ENV_reader ]\n",
    "mdata_ENV_reader = pd.DataFrame.from_records(mdata_ENV_reader, columns=['run_date', 'disease', 'set', 'assay', 'read_time',  'plate_reader'])\n",
    "mdata_ENV_reader['plate_origin'] = 'OHSU'\n",
    "mdata_ENV_reader['run_at'] = 'Phoenix'\n",
    "mdata_ENV_reader['plate_origin'] = 'OHSU'\n",
    "mdata_ENV_reader['file'] = dataFiles_ENV_reader\n",
    "mdata_ENV_reader['plate_version'] = 'MarcTest123_v6'\n",
    "mdata_ENV_reader.drop('disease', axis=1, inplace=True)"
   ]
  },
  {
   "cell_type": "code",
   "execution_count": 18,
   "metadata": {
    "collapsed": false
   },
   "outputs": [],
   "source": [
    "data_ENV_reader = list()\n",
    "for num,row in mdata_ENV_reader.iterrows():\n",
    "    temp_data = process_ENV1_plate_reader(row.file)    \n",
    "    #add the metadata to processed raw data\n",
    "    for key,val in row.iterkv():\n",
    "        temp_data[key]=val\n",
    "    data_ENV_reader.append(temp_data)\n",
    "#final pandas df\n",
    "data_ENV_reader  = pd.concat(data_ENV_reader, axis=0)"
   ]
  },
  {
   "cell_type": "markdown",
   "metadata": {},
   "source": [
    "### Process PAR plate reader data"
   ]
  },
  {
   "cell_type": "code",
   "execution_count": 19,
   "metadata": {
    "collapsed": false
   },
   "outputs": [],
   "source": [
    "dataFiles_PAR_reader = [ x for x in dataFiles if x.find('Env') == -1]\n",
    "mdata_PAR_reader = [ os.path.basename(x).replace('_All_Data.xlsx','').split('_') for x in dataFiles_PAR_reader ]\n",
    "mdata_PAR_reader = pd.DataFrame.from_records(mdata_PAR_reader, columns=['run_date', 'plate_origin', 'set', 'assay', 'plate_reader'])\n",
    "mdata_PAR_reader['plate_origin'] = 'OHSU'\n",
    "mdata_PAR_reader['run_at'] = 'Phoenix'\n",
    "mdata_PAR_reader['plate_origin'] = 'OHSU'\n",
    "mdata_PAR_reader['file'] = dataFiles_PAR_reader\n",
    "mdata_PAR_reader['plate_version'] = 'MarcTest123_v6'"
   ]
  },
  {
   "cell_type": "code",
   "execution_count": 20,
   "metadata": {
    "collapsed": false
   },
   "outputs": [],
   "source": [
    "data_PAR_reader = list()\n",
    "import xlrd\n",
    "#custom code to read 4 sheets in each excel file for PAR plate reader\n",
    "#each sheet corresponds to a specific read time\n",
    "for num,row in mdata_PAR_reader.iterrows():\n",
    "    xls = xlrd.open_workbook(row.file)\n",
    "    for sheet in xls.sheet_names():\n",
    "        temp_mdata = sheet.split('_')\n",
    "        read_time = temp_mdata[5]\n",
    "        temp_data = process_PAR1_plate_reader(row.file, sheetname=sheet)\n",
    "        #add the metadata to processed raw data\n",
    "        temp_data['read_time'] = read_time\n",
    "        for key,val in row.iterkv():\n",
    "            temp_data[key]=val\n",
    "        data_PAR_reader.append(temp_data)\n",
    "\n",
    "#final pandas df\n",
    "data_PAR_reader  = pd.concat(data_PAR_reader, axis=0)\n",
    "    "
   ]
  },
  {
   "cell_type": "code",
   "execution_count": 21,
   "metadata": {
    "collapsed": false
   },
   "outputs": [],
   "source": [
    "final_data = pd.concat([data_ENV_reader, data_PAR_reader], axis=0)"
   ]
  },
  {
   "cell_type": "markdown",
   "metadata": {},
   "source": [
    "### Join with the plate map to get the meta data"
   ]
  },
  {
   "cell_type": "code",
   "execution_count": 22,
   "metadata": {
    "collapsed": true
   },
   "outputs": [],
   "source": [
    "final_data = pd.merge(OHSU_v6_plateMap,final_data, how='right', \n",
    "                            left_on = ['plate_version','Plate_Num', 'Well_Row', 'Well_Column'],\n",
    "                            right_on = ['plate_version', 'plateNum' ,'row', 'col'])"
   ]
  },
  {
   "cell_type": "markdown",
   "metadata": {},
   "source": [
    "### Normalize the plate data"
   ]
  },
  {
   "cell_type": "code",
   "execution_count": 23,
   "metadata": {
    "collapsed": false
   },
   "outputs": [],
   "source": [
    "def calc_norm_factors(df):\n",
    "    \n",
    "    #taking mean of positive control on this plate\n",
    "    pos_control = df.query('row == \"H\" & (col == 8|col == 16)')['value'].mean()\n",
    "    \n",
    "    #ANYTHING EXCEPT ROW H FOR COL 8 AND 16 AND ALL ROWS FOR COL 24\n",
    "    median_DMSO_col8 = df.query('row != \"H\" & col == 8')['value'].tolist()\n",
    "    median_DMSO_col16 = df.query('row != \"H\" & col == 16')['value'].tolist()\n",
    "    median_DMSO_col24 = df.query('col == 24')['value'].tolist()\n",
    "    median_DMSO = np.median(median_DMSO_col8 + median_DMSO_col16 + median_DMSO_col24)\n",
    "    return pd.DataFrame({'pos_control': [pos_control], 'median_DMSO': [median_DMSO]})\n",
    "\n",
    "grp = final_data.groupby(['plate_version', 'plate_origin' ,'run_at','assay', 'plateNum' , \n",
    "                          'plate_reader' ,'read_time', 'set'])\n",
    "norm_factors = grp.apply(calc_norm_factors).reset_index()\n",
    "\n",
    "#merge the normFactors\n",
    "final_data = pd.merge(final_data, norm_factors)\n",
    "\n",
    "#normValue\n",
    "final_data['normValue'] = (final_data.value - final_data.pos_control) / ( final_data.median_DMSO - final_data.pos_control)\n",
    "final_data.normValue = final_data.normValue.map(lambda x: np.around(x, 4))"
   ]
  },
  {
   "cell_type": "code",
   "execution_count": 35,
   "metadata": {
    "collapsed": false
   },
   "outputs": [],
   "source": [
    "required_columns = ['plate_version', 'plateNum','plate_origin' , 'run_at'  ,'run_date', 'set' ,'assay' ,\n",
    "                    'plate_reader', 'read_time' , 'row' ,'col', 'Drug', 'drug_replicate_across_plates', 'Concentration', 'value', 'Unit', \n",
    "                    'normValue' , 'pos_control' ,'median_DMSO']\n",
    "final_data = final_data[required_columns]"
   ]
  },
  {
   "cell_type": "markdown",
   "metadata": {},
   "source": [
    "### Upload to Synapse"
   ]
  },
  {
   "cell_type": "code",
   "execution_count": null,
   "metadata": {
    "collapsed": true
   },
   "outputs": [],
   "source": [
    "outfile = 'patient_sample_OHSU_plates_run_at_Phoenix_rawData.tsv'\n",
    "final_data.to_csv(outfile, sep = '\\t', index=False)\n",
    "syn.store(synapseclient.File(outfile, parentId = 'syn4932396'),\n",
    "          used = dataFiles_df.id.tolist(),\n",
    "          executed ='')\n",
    "!rm $outfile"
   ]
  },
  {
   "cell_type": "code",
   "execution_count": 36,
   "metadata": {
    "collapsed": false
   },
   "outputs": [
    {
     "data": {
      "text/html": [
       "<div>\n",
       "<table border=\"1\" class=\"dataframe\">\n",
       "  <thead>\n",
       "    <tr style=\"text-align: right;\">\n",
       "      <th></th>\n",
       "      <th>id</th>\n",
       "    </tr>\n",
       "  </thead>\n",
       "  <tbody>\n",
       "    <tr>\n",
       "      <th>0</th>\n",
       "      <td>syn4932102</td>\n",
       "    </tr>\n",
       "    <tr>\n",
       "      <th>1</th>\n",
       "      <td>syn4932106</td>\n",
       "    </tr>\n",
       "    <tr>\n",
       "      <th>2</th>\n",
       "      <td>syn4932103</td>\n",
       "    </tr>\n",
       "    <tr>\n",
       "      <th>3</th>\n",
       "      <td>syn4932105</td>\n",
       "    </tr>\n",
       "    <tr>\n",
       "      <th>4</th>\n",
       "      <td>syn4932110</td>\n",
       "    </tr>\n",
       "    <tr>\n",
       "      <th>5</th>\n",
       "      <td>syn4932114</td>\n",
       "    </tr>\n",
       "    <tr>\n",
       "      <th>6</th>\n",
       "      <td>syn4932112</td>\n",
       "    </tr>\n",
       "    <tr>\n",
       "      <th>7</th>\n",
       "      <td>syn4932113</td>\n",
       "    </tr>\n",
       "    <tr>\n",
       "      <th>8</th>\n",
       "      <td>syn4932121</td>\n",
       "    </tr>\n",
       "    <tr>\n",
       "      <th>9</th>\n",
       "      <td>syn4932122</td>\n",
       "    </tr>\n",
       "  </tbody>\n",
       "</table>\n",
       "</div>"
      ],
      "text/plain": [
       "           id\n",
       "0  syn4932102\n",
       "1  syn4932106\n",
       "2  syn4932103\n",
       "3  syn4932105\n",
       "4  syn4932110\n",
       "5  syn4932114\n",
       "6  syn4932112\n",
       "7  syn4932113\n",
       "8  syn4932121\n",
       "9  syn4932122"
      ]
     },
     "execution_count": 36,
     "metadata": {},
     "output_type": "execute_result"
    }
   ],
   "source": [
    "dataFiles_df"
   ]
  },
  {
   "cell_type": "code",
   "execution_count": null,
   "metadata": {
    "collapsed": true
   },
   "outputs": [],
   "source": []
  }
 ],
 "metadata": {
  "kernelspec": {
   "display_name": "Python 2",
   "language": "python",
   "name": "python2"
  },
  "language_info": {
   "codemirror_mode": {
    "name": "ipython",
    "version": 2
   },
   "file_extension": ".py",
   "mimetype": "text/x-python",
   "name": "python",
   "nbconvert_exporter": "python",
   "pygments_lexer": "ipython2",
   "version": "2.7.10"
  }
 },
 "nbformat": 4,
 "nbformat_minor": 0
}
