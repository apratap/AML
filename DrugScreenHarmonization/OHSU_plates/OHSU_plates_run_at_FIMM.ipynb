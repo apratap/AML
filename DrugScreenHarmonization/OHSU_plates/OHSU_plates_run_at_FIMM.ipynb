{
 "metadata": {
  "name": "",
  "signature": "sha256:f5d7f0067e292a3bc54c0433ed82517f5f4732b38b51d273c2b5d544da02ed15"
 },
 "nbformat": 3,
 "nbformat_minor": 0,
 "worksheets": [
  {
   "cells": [
    {
     "cell_type": "code",
     "collapsed": false,
     "input": [
      "import pandas as pd\n",
      "import sys\n",
      "import os\n",
      "import synapseclient\n",
      "import itertools\n",
      "import numpy as np\n",
      "import re\n",
      "\n",
      "\n",
      "#local libs\n",
      "sys.path.append(\"/Users/apratap/dev/appys/lib/\")\n",
      "import synapseutils\n",
      "import utils\n",
      "\n",
      "\n",
      "syn = synapseclient.login()"
     ],
     "language": "python",
     "metadata": {},
     "outputs": [
      {
       "output_type": "stream",
       "stream": "stdout",
       "text": [
        "Welcome, Abhishek Pratap!\n"
       ]
      }
     ],
     "prompt_number": 1
    },
    {
     "cell_type": "markdown",
     "metadata": {},
     "source": [
      "### Source the functions for processing OHSU plates"
     ]
    },
    {
     "cell_type": "code",
     "collapsed": false,
     "input": [
      "%run OHSU_plateMaps.ipynb"
     ],
     "language": "python",
     "metadata": {},
     "outputs": [],
     "prompt_number": 2
    },
    {
     "cell_type": "markdown",
     "metadata": {},
     "source": [
      "### get the dataFiles"
     ]
    },
    {
     "cell_type": "code",
     "collapsed": false,
     "input": [
      "dataFiles = utils.get_FilesList(\"/Users/apratap/Box Sync/AML_federation/Drug screens/Data/OHSU Plates/FIMM Raw Plate Reader Data\",\n",
      "                                pattern = '_RAW.xlsx')"
     ],
     "language": "python",
     "metadata": {},
     "outputs": [
      {
       "output_type": "stream",
       "stream": "stdout",
       "text": [
        "[get_FilesList]: Found 11 files at /Users/apratap/Box Sync/AML_federation/Drug screens/Data/OHSU Plates/FIMM Raw Plate Reader Data\n"
       ]
      }
     ],
     "prompt_number": 3
    },
    {
     "cell_type": "markdown",
     "metadata": {},
     "source": [
      "#### Create the meta data from filenames"
     ]
    },
    {
     "cell_type": "code",
     "collapsed": false,
     "input": [
      "mdata = [ os.path.basename(x).replace('_RAW.xlsx','').split('_') for x in dataFiles ] \n",
      "mdata = pd.DataFrame.from_records(mdata, \n",
      "                                  columns=['plate_origin', 'plate_v1', 'plate_v2',\n",
      "                                           'run_at', 'run_by', 'run_date', 'cellLine',\n",
      "                                           'set', 'assay', 'plate_reader', 'read_time'])\n",
      "\n",
      "mdata['plate_version']  = mdata['plate_v1'] + '_' + mdata['plate_v2']\n",
      "mdata.drop(['plate_v1' ,'plate_v2'], axis=1, inplace=True)\n",
      "mdata['file'] = dataFiles"
     ],
     "language": "python",
     "metadata": {},
     "outputs": [],
     "prompt_number": 4
    },
    {
     "cell_type": "code",
     "collapsed": false,
     "input": [
      "def temp(x):\n",
      "    m = re.search('(\\d+)',x)\n",
      "    if m:\n",
      "        return m.group(1)\n",
      "    else:\n",
      "        return 1\n",
      "mdata['plate_replicate'] = mdata.assay.map(temp)"
     ],
     "language": "python",
     "metadata": {},
     "outputs": [],
     "prompt_number": 5
    },
    {
     "cell_type": "code",
     "collapsed": false,
     "input": [
      "mdata.plate_reader = mdata.plate_reader.map(lambda x: re.sub('\\d+','',x))\n",
      "mdata.assay = mdata.assay.map(lambda x: re.sub('\\d+','',x))"
     ],
     "language": "python",
     "metadata": {},
     "outputs": [],
     "prompt_number": 6
    },
    {
     "cell_type": "code",
     "collapsed": false,
     "input": [
      "#fix different spellings\n",
      "mdata.plate_reader[mdata.plate_reader == 'PHERAstar'] = 'Pherastar'\n"
     ],
     "language": "python",
     "metadata": {},
     "outputs": [],
     "prompt_number": 7
    },
    {
     "cell_type": "markdown",
     "metadata": {},
     "source": [
      "### Function to read, munge & process all the OHSU plate date run at FIMM"
     ]
    },
    {
     "cell_type": "code",
     "collapsed": false,
     "input": [
      "def read_OHSU_plates_run_at_FIMM(dataFile): \n",
      "    \n",
      "    df= pd.read_excel(dataFile)\n",
      "\n",
      "    def process_block(df, plateNum):\n",
      "\n",
      "        #remove blank rows\n",
      "        #from each block remove rows which have > 50% rows blank\n",
      "        df = df.dropna(how='any', thresh = 12)\n",
      "\n",
      "        #drop column 1\n",
      "        df = df.drop(df.columns[0], axis=1 )\n",
      "\n",
      "        #dropping anything after column 25\n",
      "        #pure hack based on generality in data\n",
      "        df = df.iloc[:,0:24]\n",
      "        \n",
      "        #another custom hack\n",
      "        #if we are seeing plate 2 or 3\n",
      "        if plateNum > 1:\n",
      "            df = df.iloc[1:,:]\n",
      "\n",
      "        #check for any errors\n",
      "        error_msg = check_plate_structure(df)\n",
      "        if error_msg is not None:\n",
      "            raise Exception(error_msg)\n",
      "\n",
      "        #label the df\n",
      "        df = label_plate(df)\n",
      "        df['row'] = df.index\n",
      "        df = pd.melt( df, id_vars = ['row'], var_name='col')\n",
      "        df['plateNum'] = plateNum\n",
      "\n",
      "        return df\n",
      "\n",
      "    #get the ending index of each block in the excel sheet based on where the end is found \n",
      "    split_loc = df.isnull().all(axis=1).nonzero()[0]\n",
      "\n",
      "    #add the start position in the beginning\n",
      "    # insert start\n",
      "    split_loc = np.insert(split_loc,0,0)\n",
      "    #insert end\n",
      "    split_loc = np.append(split_loc,df.shape[0])\n",
      "\n",
      "    #create the start and end regions of data frame split\n",
      "    #gather the location of 3 blocks on the excel sheet\n",
      "    split_loc = [split_loc[i:i+2] for i in range(len(split_loc)-1)]\n",
      "\n",
      "    #extract the 3 blocks from the single excel sheet data frame\n",
      "    df_blocks = [df.iloc[range(*region)].reset_index(drop=True) for region in split_loc]\n",
      "\n",
      "    #process each block\n",
      "    df_blocks = [process_block(x,i+1) for i,x in enumerate(df_blocks)]\n",
      "    \n",
      "    #merge blocks\n",
      "    df = pd.concat(df_blocks, axis=0)\n",
      "    \n",
      "    return df"
     ],
     "language": "python",
     "metadata": {},
     "outputs": [],
     "prompt_number": 8
    },
    {
     "cell_type": "markdown",
     "metadata": {},
     "source": [
      "### read all the files"
     ]
    },
    {
     "cell_type": "code",
     "collapsed": false,
     "input": [
      "OHSU_plates_data = list()\n",
      "\n",
      "for num,row in mdata.iterrows():\n",
      "    print 'Processing .. %s .....' % os.path.basename(row.file)\n",
      "    data = read_OHSU_plates_run_at_FIMM(row.file)\n",
      "    #add the metadata to processed raw data\n",
      "    for key,val in row.iterkv():\n",
      "        data[key]=val\n",
      "    OHSU_plates_data.append(data)\n",
      "    \n",
      "    print 'Done \\n'\n",
      "#final pandas df\n",
      "OHSU_plates_data  = pd.concat(OHSU_plates_data, axis=0)"
     ],
     "language": "python",
     "metadata": {},
     "outputs": [
      {
       "output_type": "stream",
       "stream": "stdout",
       "text": [
        "Processing .. OHSU_MarcTest123_v6_FIMM_SP_09-10-14_K562_screen02_CTG1_PHERAstar_HR_RAW.xlsx .....\n",
        "Done \n"
       ]
      },
      {
       "output_type": "stream",
       "stream": "stdout",
       "text": [
        "\n",
        "Processing .. OHSU_MarcTest123_v6_FIMM_SP_09-10-14_K562_screen02_CTG2_PHERAstar_HR_RAW.xlsx .....\n",
        "Done \n",
        "\n",
        "Processing .. OHSU_MarcTest123_v6_FIMM_SP_09-10-14_K562_screen02_CTxG_PHERAstar_HR_RAW.xlsx .....\n",
        "Done \n"
       ]
      },
      {
       "output_type": "stream",
       "stream": "stdout",
       "text": [
        "\n",
        "Processing .. OHSU_MarcTest123_v6_FIMM_SP_10-09-14_K562_screen02_MTS_Paradigm_HR_RAW.xlsx .....\n",
        "Done \n",
        "\n",
        "Processing .. OHSU_MarcTest123_v6_FIMM_SP_11-13-14_Molm14_screen04_CTG_Pherastar_HR_RAW.xlsx .....\n",
        "Done \n"
       ]
      },
      {
       "output_type": "stream",
       "stream": "stdout",
       "text": [
        "\n",
        "Processing .. OHSU_MarcTest123_v6_FIMM_SP_11-13-14_Molm14_screen04_CTxG_Pherastar_HR_RAW.xlsx .....\n",
        "Done \n",
        "\n",
        "Processing .. OHSU_MarcTest123_v6_FIMM_SP_11-13-14_Molm14_screen04_MTS_Paradigm_HR_RAW.xlsx .....\n",
        "Done \n"
       ]
      },
      {
       "output_type": "stream",
       "stream": "stdout",
       "text": [
        "\n",
        "Processing .. OHSU_MarcTest123_v6_FIMM_SP_12-04-14_Molm14_screen05_CTG1_Pherastar_HR_RAW.xlsx .....\n",
        "Done \n",
        "\n",
        "Processing .. OHSU_MarcTest123_v6_FIMM_SP_12-04-14_Molm14_screen05_CTG2_Pherastar_HR_RAW.xlsx .....\n",
        "Done \n"
       ]
      },
      {
       "output_type": "stream",
       "stream": "stdout",
       "text": [
        "\n",
        "Processing .. OHSU_MarcTest123_v6_FIMM_SP_12-04-14_Molm14_screen05_CTxG_Pherastar_HR_RAW.xlsx .....\n",
        "Done \n",
        "\n",
        "Processing .. OHSU_MarcTest123_v6_FIMM_SP_12-04-14_Molm14_screen05_MTS_Paradigm_HR_RAW.xlsx .....\n",
        "Done \n"
       ]
      },
      {
       "output_type": "stream",
       "stream": "stdout",
       "text": [
        "\n"
       ]
      }
     ],
     "prompt_number": 9
    },
    {
     "cell_type": "code",
     "collapsed": false,
     "input": [
      "OHSU_plates_data = pd.merge(OHSU_v6_plateMap,OHSU_plates_data, how='right', \n",
      "                            left_on = ['plate_version','Plate_Num', 'Well_Row', 'Well_Column'],\n",
      "                            right_on = ['plate_version', 'plateNum' ,'row', 'col'])"
     ],
     "language": "python",
     "metadata": {},
     "outputs": [],
     "prompt_number": 10
    },
    {
     "cell_type": "markdown",
     "metadata": {},
     "source": [
      "### Normalize the plate data"
     ]
    },
    {
     "cell_type": "code",
     "collapsed": false,
     "input": [
      "def calc_norm_factors(df):\n",
      "    \n",
      "    #taking mean of positive control on this plate\n",
      "    pos_control = df.query('row == \"H\" & (col == 8|col == 16)')['value'].mean()\n",
      "    \n",
      "    #ANYTHING EXCEPT ROW H FOR COL 8 AND 16 AND ALL ROWS FOR COL 24\n",
      "    median_DMSO_col8 = df.query('row != \"H\" & col == 8')['value'].tolist()\n",
      "    median_DMSO_col16 = df.query('row != \"H\" & col == 16')['value'].tolist()\n",
      "    median_DMSO_col24 = df.query('col == 24')['value'].tolist()\n",
      "    median_DMSO = np.median(median_DMSO_col8 + median_DMSO_col16 + median_DMSO_col24)\n",
      "    return pd.DataFrame({'pos_control': [pos_control], 'median_DMSO': [median_DMSO]})\n",
      "\n",
      "\n",
      "grp = OHSU_plates_data.groupby(['plate_version', 'plate_origin' ,'run_at','assay', 'plateNum' , 'cellLine' , \n",
      "                                'plate_reader' ,'read_time', 'set', 'plate_replicate'])\n",
      "norm_factors=  grp.apply(calc_norm_factors).reset_index()\n",
      "\n",
      "\n",
      "#merge the normFactors\n",
      "OHSU_plates_data = pd.merge(OHSU_plates_data, norm_factors)\n",
      "\n",
      "#normValue\n",
      "OHSU_plates_data['normValue'] = (OHSU_plates_data.value - OHSU_plates_data.pos_control) / OHSU_plates_data.median_DMSO\n",
      "OHSU_plates_data.normValue = OHSU_plates_data.normValue.map(lambda x: np.around(x, 4))"
     ],
     "language": "python",
     "metadata": {},
     "outputs": [],
     "prompt_number": 11
    },
    {
     "cell_type": "code",
     "collapsed": false,
     "input": [
      "required_columns = ['plate_version', 'plateNum','plate_origin' , 'run_at' ,'run_by' ,'run_date', 'set' ,'cellLine' ,'assay' ,\n",
      "                    'plate_reader', 'read_time' , 'row' ,'col', 'Drug', 'Replicant', 'Concentration', 'value', 'Unit', \n",
      "                    'normValue' , 'pos_control' ,'median_DMSO', 'plate_replicate']\n",
      "OHSU_plates_data = OHSU_plates_data[required_columns]"
     ],
     "language": "python",
     "metadata": {},
     "outputs": [],
     "prompt_number": 12
    },
    {
     "cell_type": "markdown",
     "metadata": {},
     "source": [
      "### Store in Synapse"
     ]
    },
    {
     "cell_type": "code",
     "collapsed": false,
     "input": [
      "outfile = 'OHSU_plates_run_at_FIMM_rawData.tsv'\n",
      "OHSU_plates_data.to_csv(outfile, sep = '\\t', index=False )\n",
      "syn.store(synapseclient.File(outfile, parentId = 'syn3458175'),\n",
      "          used = 'https://app.box.com/files/0/f/3201657035/FIMM_Raw_Plate_Reader_Data',\n",
      "          executed = )\n",
      "!rm $outfile"
     ],
     "language": "python",
     "metadata": {},
     "outputs": [
      {
       "output_type": "stream",
       "stream": "stdout",
       "text": [
        "\n",
        "##################################################\n",
        "Uploading file to Synapse storage\n",
        "##################################################\n",
        "."
       ]
      },
      {
       "output_type": "stream",
       "stream": "stdout",
       "text": [
        "."
       ]
      },
      {
       "output_type": "stream",
       "stream": "stdout",
       "text": [
        ","
       ]
      },
      {
       "output_type": "stream",
       "stream": "stdout",
       "text": [
        "!"
       ]
      },
      {
       "output_type": "stream",
       "stream": "stdout",
       "text": [
        "!"
       ]
      },
      {
       "output_type": "stream",
       "stream": "stdout",
       "text": [
        "!\n"
       ]
      },
      {
       "output_type": "stream",
       "stream": "stdout",
       "text": [
        "Upload completed in 4 seconds.\n"
       ]
      }
     ],
     "prompt_number": 13
    },
    {
     "cell_type": "code",
     "collapsed": false,
     "input": [],
     "language": "python",
     "metadata": {},
     "outputs": []
    }
   ],
   "metadata": {}
  }
 ]
}