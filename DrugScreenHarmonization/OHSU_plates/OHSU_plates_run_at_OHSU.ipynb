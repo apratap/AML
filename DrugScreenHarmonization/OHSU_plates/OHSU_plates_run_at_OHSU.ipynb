{
 "metadata": {
  "name": "",
  "signature": "sha256:cae0441ae3c4a76b767c9ae1a1b290dd8379ccaa454020d5f1226344727cdfdc"
 },
 "nbformat": 3,
 "nbformat_minor": 0,
 "worksheets": [
  {
   "cells": [
    {
     "cell_type": "code",
     "collapsed": false,
     "input": [
      "import pandas as pd\n",
      "import sys\n",
      "import os\n",
      "import synapseclient\n",
      "import itertools\n",
      "import numpy as np\n",
      "import re\n",
      "\n",
      "#local libs\n",
      "sys.path.append(\"/Users/apratap/dev/appys/lib/\")\n",
      "import synapseutils\n",
      "import utils\n",
      "\n",
      "\n",
      "syn = synapseclient.login()"
     ],
     "language": "python",
     "metadata": {},
     "outputs": [
      {
       "output_type": "stream",
       "stream": "stdout",
       "text": [
        "Welcome, Abhishek Pratap!\n"
       ]
      }
     ],
     "prompt_number": 1
    },
    {
     "cell_type": "markdown",
     "metadata": {},
     "source": [
      "### Source the functions for processing OHSU plates"
     ]
    },
    {
     "cell_type": "code",
     "collapsed": false,
     "input": [
      "%run OHSU_plateMaps.ipynb"
     ],
     "language": "python",
     "metadata": {},
     "outputs": [],
     "prompt_number": 2
    },
    {
     "cell_type": "markdown",
     "metadata": {},
     "source": [
      "### get the dataFiles"
     ]
    },
    {
     "cell_type": "code",
     "collapsed": false,
     "input": [
      "dataFiles = utils.get_FilesList(\"/Users/apratap/Box Sync/AML_federation/Drug screens/Data/OHSU Plates/OHSU Raw Plate Reader Data\",\n",
      "                                pattern = 'RAW.xlsx')\n",
      "\n"
     ],
     "language": "python",
     "metadata": {},
     "outputs": [
      {
       "output_type": "stream",
       "stream": "stdout",
       "text": [
        "[get_FilesList]: Found 6 files at /Users/apratap/Box Sync/AML_federation/Drug screens/Data/OHSU Plates/OHSU Raw Plate Reader Data\n"
       ]
      }
     ],
     "prompt_number": 3
    },
    {
     "cell_type": "markdown",
     "metadata": {},
     "source": [
      "### create the meta data from files"
     ]
    },
    {
     "cell_type": "code",
     "collapsed": false,
     "input": [
      "mdata = [ os.path.basename(x).replace(' RAW.xlsx','').split('_') for x in dataFiles ] \n",
      "\n",
      "mdata = pd.DataFrame.from_records(mdata, \n",
      "                                  columns=['plate_origin', 'plate_v1', 'plate_v2',\n",
      "                                           'run_at', 'run_by', 'run_date', 'cellLine-set',\n",
      "                                           'assay', 'plate_reader', 'read_time'])\n",
      "\n",
      "mdata['plate_version']  = mdata['plate_v1'] + '_' + mdata['plate_v2']\n",
      "mdata.drop(['plate_v1' ,'plate_v2'], axis=1, inplace=True)\n",
      "mdata['file'] = dataFiles\n",
      "\n",
      "\n",
      "#more munging\n",
      "temp_mdata = pd.DataFrame(mdata['cellLine-set'].str.split('-').tolist(),\n",
      "                          columns = ['cellLine' ,'set'])\n",
      "mdata.drop(['cellLine-set'], axis=1, inplace=True)\n",
      "\n",
      "\n",
      "#merge the data\n",
      "mdata = pd.concat([mdata, temp_mdata], axis=1)"
     ],
     "language": "python",
     "metadata": {},
     "outputs": [],
     "prompt_number": 4
    },
    {
     "cell_type": "code",
     "collapsed": false,
     "input": [
      "mdata.plate_reader = mdata.plate_reader.map(lambda x: re.sub('\\d+','',x))\n",
      "mdata.assay = mdata.assay.map(lambda x: re.sub('\\d+','',x))"
     ],
     "language": "python",
     "metadata": {},
     "outputs": [],
     "prompt_number": 5
    },
    {
     "cell_type": "markdown",
     "metadata": {},
     "source": [
      "### Function to read, munge & process all the OHSU plate date run at **OHSU**"
     ]
    },
    {
     "cell_type": "code",
     "collapsed": false,
     "input": [
      "def read_OHSU_plates_run_at_OHSU(dataFile): \n",
      "    \n",
      "    df= pd.read_excel(dataFile)\n",
      "\n",
      "    def process_block(df, plateNum):\n",
      "\n",
      "        #remove blank rows\n",
      "        #from each block remove rows which have > 50% rows blank\n",
      "        df = df.dropna(how='any', thresh = 12)\n",
      "\n",
      "        #dropping anything after column 25\n",
      "        #pure hack based on generality in data\n",
      "        df = df.iloc[:,0:24]\n",
      "        \n",
      "        #another custom hack\n",
      "        #if we are seeing plate 2 or 3\n",
      "        if plateNum > 1:\n",
      "            df = df.iloc[1:,:]\n",
      "\n",
      "        #check for any errors\n",
      "        error_msg = check_plate_structure(df)\n",
      "        if error_msg is not None:\n",
      "            raise Exception(error_msg)\n",
      "\n",
      "        #label the df\n",
      "        df = label_plate(df)\n",
      "        df['row'] = df.index\n",
      "        df = pd.melt( df, id_vars = ['row'], var_name='col')\n",
      "        df['plateNum'] = plateNum\n",
      "\n",
      "        return df\n",
      "\n",
      "    #get the ending index of each block in the excel sheet based on where the end is found \n",
      "    split_loc = df.isnull().all(axis=1).nonzero()[0]\n",
      "\n",
      "    #add the start position in the beginning\n",
      "    # insert start\n",
      "    split_loc = np.insert(split_loc,0,0)\n",
      "    #insert end\n",
      "    split_loc = np.append(split_loc,df.shape[0])\n",
      "\n",
      "    #create the start and end regions of data frame split\n",
      "    #gather the location of 3 blocks on the excel sheet\n",
      "    split_loc = [split_loc[i:i+2] for i in range(len(split_loc)-1)]\n",
      "\n",
      "    #extract the 3 blocks from the single excel sheet data frame\n",
      "    df_blocks = [df.iloc[range(*region)].reset_index(drop=True) for region in split_loc]\n",
      "\n",
      "    #process each block\n",
      "    df_blocks = [process_block(x,i+1) for i,x in enumerate(df_blocks)]\n",
      "    \n",
      "    #merge blocks\n",
      "    df = pd.concat(df_blocks, axis=0)\n",
      "    \n",
      "    return df"
     ],
     "language": "python",
     "metadata": {},
     "outputs": [],
     "prompt_number": 6
    },
    {
     "cell_type": "markdown",
     "metadata": {},
     "source": [
      "### Read all the data"
     ]
    },
    {
     "cell_type": "code",
     "collapsed": false,
     "input": [
      "OHSU_plates_data = list()\n",
      "\n",
      "for num,row in mdata.iterrows():\n",
      "    print 'Processing .. %s .....' % os.path.basename(row.file)\n",
      "    data = read_OHSU_plates_run_at_OHSU(row.file)\n",
      "    #add the metadata to processed raw data\n",
      "    for key,val in row.iterkv():\n",
      "        data[key]=val\n",
      "    OHSU_plates_data.append(data)\n",
      "    \n",
      "    print 'Done \\n'\n",
      "#final pandas df\n",
      "OHSU_plates_data  = pd.concat(OHSU_plates_data, axis=0)"
     ],
     "language": "python",
     "metadata": {},
     "outputs": [
      {
       "output_type": "stream",
       "stream": "stdout",
       "text": [
        "Processing .. OHSU_MarcTest123_v6_OHSU_KJ_03-23-15_K562-set1_MTS_BioTek_1hr RAW.xlsx .....\n",
        "Done \n"
       ]
      },
      {
       "output_type": "stream",
       "stream": "stdout",
       "text": [
        "\n",
        "Processing .. OHSU_MarcTest123_v6_OHSU_KJ_03-23-15_K562-set2_MTS_BioTek_1hr RAW.xlsx .....\n",
        "Done \n"
       ]
      },
      {
       "output_type": "stream",
       "stream": "stdout",
       "text": [
        "\n",
        "Processing .. OHSU_MarcTest123_v6_OHSU_KJ_03-23-15_K562-set3_MTS_BioTek_1hr RAW.xlsx .....\n",
        "Done \n"
       ]
      },
      {
       "output_type": "stream",
       "stream": "stdout",
       "text": [
        "\n",
        "Processing .. OHSU_MarcTest123_v6_OHSU_KJ_03-23-15_Molm14-set1_MTS_BioTek_3hr RAW.xlsx .....\n",
        "Done \n"
       ]
      },
      {
       "output_type": "stream",
       "stream": "stdout",
       "text": [
        "\n",
        "Processing .. OHSU_MarcTest123_v6_OHSU_KJ_03-23-15_Molm14-set2_MTS_BioTek_3hr RAW.xlsx .....\n",
        "Done \n",
        "\n",
        "Processing .. OHSU_MarcTest123_v6_OHSU_KJ_03-23-15_Molm14-set3_MTS_BioTek_3hr RAW.xlsx .....\n",
        "Done \n"
       ]
      },
      {
       "output_type": "stream",
       "stream": "stdout",
       "text": [
        "\n"
       ]
      }
     ],
     "prompt_number": 7
    },
    {
     "cell_type": "markdown",
     "metadata": {},
     "source": [
      "#### Merge with right version of plate maps"
     ]
    },
    {
     "cell_type": "code",
     "collapsed": false,
     "input": [
      "OHSU_plates_data = pd.merge(OHSU_v6_plateMap,OHSU_plates_data, how='right', \n",
      "                            left_on = ['plate_version','Plate_Num', 'Well_Row', 'Well_Column'],\n",
      "                            right_on = ['plate_version', 'plateNum' ,'row', 'col'])"
     ],
     "language": "python",
     "metadata": {},
     "outputs": [],
     "prompt_number": 8
    },
    {
     "cell_type": "markdown",
     "metadata": {},
     "source": [
      "### Normalize the plate data"
     ]
    },
    {
     "cell_type": "code",
     "collapsed": false,
     "input": [
      "def calc_norm_factors(df):\n",
      "    \n",
      "    #taking mean of positive control on this plate\n",
      "    pos_control = df.query('row == \"H\" & (col == 8|col == 16)')['value'].mean()\n",
      "    \n",
      "    #ANYTHING EXCEPT ROW H FOR COL 8 AND 16 AND ALL ROWS FOR COL 24\n",
      "    median_DMSO_col8 = df.query('row != \"H\" & col == 8')['value'].tolist()\n",
      "    median_DMSO_col16 = df.query('row != \"H\" & col == 16')['value'].tolist()\n",
      "    median_DMSO_col24 = df.query('col == 24')['value'].tolist()\n",
      "    median_DMSO = np.median(median_DMSO_col8 + median_DMSO_col16 + median_DMSO_col24)\n",
      "    return pd.DataFrame({'pos_control': [pos_control], 'median_DMSO': [median_DMSO]})\n",
      "\n",
      "\n",
      "grp = OHSU_plates_data.groupby(['plate_version', 'plate_origin' ,'run_at','assay', 'plateNum' , 'cellLine' , \n",
      "                                'plate_reader' ,'read_time', 'set'])\n",
      "norm_factors = grp.apply(calc_norm_factors).reset_index()\n",
      "\n",
      "\n",
      "#merge the normFactors\n",
      "OHSU_plates_data = pd.merge(OHSU_plates_data, norm_factors)\n",
      "\n",
      "#normValue\n",
      "OHSU_plates_data['normValue'] = (OHSU_plates_data.value - OHSU_plates_data.pos_control) / OHSU_plates_data.median_DMSO\n",
      "OHSU_plates_data.normValue = OHSU_plates_data.normValue.map(lambda x: np.around(x, 4))"
     ],
     "language": "python",
     "metadata": {},
     "outputs": [],
     "prompt_number": 9
    },
    {
     "cell_type": "code",
     "collapsed": false,
     "input": [
      "required_columns = ['plate_version', 'plateNum','plate_origin' , 'run_at' ,'run_by' ,'run_date', 'set' ,'cellLine' ,'assay' ,\n",
      "                    'plate_reader', 'read_time' , 'row' ,'col', 'Drug', 'Replicant', 'Concentration', 'value', 'Unit', \n",
      "                    'normValue' , 'pos_control' ,'median_DMSO']\n",
      "OHSU_plates_data = OHSU_plates_data[required_columns]"
     ],
     "language": "python",
     "metadata": {},
     "outputs": [],
     "prompt_number": 10
    },
    {
     "cell_type": "code",
     "collapsed": false,
     "input": [
      "OHSU_plates_data.head()"
     ],
     "language": "python",
     "metadata": {},
     "outputs": [
      {
       "html": [
        "<div style=\"max-height:1000px;max-width:1500px;overflow:auto;\">\n",
        "<table border=\"1\" class=\"dataframe\">\n",
        "  <thead>\n",
        "    <tr style=\"text-align: right;\">\n",
        "      <th></th>\n",
        "      <th>plate_version</th>\n",
        "      <th>plateNum</th>\n",
        "      <th>plate_origin</th>\n",
        "      <th>run_at</th>\n",
        "      <th>run_by</th>\n",
        "      <th>run_date</th>\n",
        "      <th>set</th>\n",
        "      <th>cellLine</th>\n",
        "      <th>assay</th>\n",
        "      <th>plate_reader</th>\n",
        "      <th>...</th>\n",
        "      <th>row</th>\n",
        "      <th>col</th>\n",
        "      <th>Drug</th>\n",
        "      <th>Replicant</th>\n",
        "      <th>Concentration</th>\n",
        "      <th>value</th>\n",
        "      <th>Unit</th>\n",
        "      <th>normValue</th>\n",
        "      <th>pos_control</th>\n",
        "      <th>median_DMSO</th>\n",
        "    </tr>\n",
        "  </thead>\n",
        "  <tbody>\n",
        "    <tr>\n",
        "      <th>0</th>\n",
        "      <td> MarcTest123_v6</td>\n",
        "      <td> 1</td>\n",
        "      <td> OHSU</td>\n",
        "      <td> OHSU</td>\n",
        "      <td> KJ</td>\n",
        "      <td> 03-23-15</td>\n",
        "      <td> set1</td>\n",
        "      <td> K562</td>\n",
        "      <td> MTS</td>\n",
        "      <td> BioTek</td>\n",
        "      <td>...</td>\n",
        "      <td> A</td>\n",
        "      <td> 1</td>\n",
        "      <td> Nilotinib</td>\n",
        "      <td> 1</td>\n",
        "      <td> 10.000000</td>\n",
        "      <td> 0.206</td>\n",
        "      <td> uM</td>\n",
        "      <td>-0.4152</td>\n",
        "      <td> 0.4925</td>\n",
        "      <td> 0.69</td>\n",
        "    </tr>\n",
        "    <tr>\n",
        "      <th>1</th>\n",
        "      <td> MarcTest123_v6</td>\n",
        "      <td> 1</td>\n",
        "      <td> OHSU</td>\n",
        "      <td> OHSU</td>\n",
        "      <td> KJ</td>\n",
        "      <td> 03-23-15</td>\n",
        "      <td> set1</td>\n",
        "      <td> K562</td>\n",
        "      <td> MTS</td>\n",
        "      <td> BioTek</td>\n",
        "      <td>...</td>\n",
        "      <td> A</td>\n",
        "      <td> 2</td>\n",
        "      <td> Nilotinib</td>\n",
        "      <td> 1</td>\n",
        "      <td>  3.333333</td>\n",
        "      <td> 0.202</td>\n",
        "      <td> uM</td>\n",
        "      <td>-0.4210</td>\n",
        "      <td> 0.4925</td>\n",
        "      <td> 0.69</td>\n",
        "    </tr>\n",
        "    <tr>\n",
        "      <th>2</th>\n",
        "      <td> MarcTest123_v6</td>\n",
        "      <td> 1</td>\n",
        "      <td> OHSU</td>\n",
        "      <td> OHSU</td>\n",
        "      <td> KJ</td>\n",
        "      <td> 03-23-15</td>\n",
        "      <td> set1</td>\n",
        "      <td> K562</td>\n",
        "      <td> MTS</td>\n",
        "      <td> BioTek</td>\n",
        "      <td>...</td>\n",
        "      <td> A</td>\n",
        "      <td> 3</td>\n",
        "      <td> Nilotinib</td>\n",
        "      <td> 1</td>\n",
        "      <td>  1.111111</td>\n",
        "      <td> 0.187</td>\n",
        "      <td> uM</td>\n",
        "      <td>-0.4428</td>\n",
        "      <td> 0.4925</td>\n",
        "      <td> 0.69</td>\n",
        "    </tr>\n",
        "    <tr>\n",
        "      <th>3</th>\n",
        "      <td> MarcTest123_v6</td>\n",
        "      <td> 1</td>\n",
        "      <td> OHSU</td>\n",
        "      <td> OHSU</td>\n",
        "      <td> KJ</td>\n",
        "      <td> 03-23-15</td>\n",
        "      <td> set1</td>\n",
        "      <td> K562</td>\n",
        "      <td> MTS</td>\n",
        "      <td> BioTek</td>\n",
        "      <td>...</td>\n",
        "      <td> A</td>\n",
        "      <td> 4</td>\n",
        "      <td> Nilotinib</td>\n",
        "      <td> 1</td>\n",
        "      <td>  0.370370</td>\n",
        "      <td> 0.187</td>\n",
        "      <td> uM</td>\n",
        "      <td>-0.4428</td>\n",
        "      <td> 0.4925</td>\n",
        "      <td> 0.69</td>\n",
        "    </tr>\n",
        "    <tr>\n",
        "      <th>4</th>\n",
        "      <td> MarcTest123_v6</td>\n",
        "      <td> 1</td>\n",
        "      <td> OHSU</td>\n",
        "      <td> OHSU</td>\n",
        "      <td> KJ</td>\n",
        "      <td> 03-23-15</td>\n",
        "      <td> set1</td>\n",
        "      <td> K562</td>\n",
        "      <td> MTS</td>\n",
        "      <td> BioTek</td>\n",
        "      <td>...</td>\n",
        "      <td> A</td>\n",
        "      <td> 5</td>\n",
        "      <td> Nilotinib</td>\n",
        "      <td> 1</td>\n",
        "      <td>  0.123457</td>\n",
        "      <td> 0.188</td>\n",
        "      <td> uM</td>\n",
        "      <td>-0.4413</td>\n",
        "      <td> 0.4925</td>\n",
        "      <td> 0.69</td>\n",
        "    </tr>\n",
        "  </tbody>\n",
        "</table>\n",
        "<p>5 rows \u00d7 21 columns</p>\n",
        "</div>"
       ],
       "metadata": {},
       "output_type": "pyout",
       "prompt_number": 11,
       "text": [
        "    plate_version  plateNum plate_origin run_at run_by  run_date   set  \\\n",
        "0  MarcTest123_v6         1         OHSU   OHSU     KJ  03-23-15  set1   \n",
        "1  MarcTest123_v6         1         OHSU   OHSU     KJ  03-23-15  set1   \n",
        "2  MarcTest123_v6         1         OHSU   OHSU     KJ  03-23-15  set1   \n",
        "3  MarcTest123_v6         1         OHSU   OHSU     KJ  03-23-15  set1   \n",
        "4  MarcTest123_v6         1         OHSU   OHSU     KJ  03-23-15  set1   \n",
        "\n",
        "  cellLine assay plate_reader     ...      row col       Drug Replicant  \\\n",
        "0     K562   MTS       BioTek     ...        A   1  Nilotinib         1   \n",
        "1     K562   MTS       BioTek     ...        A   2  Nilotinib         1   \n",
        "2     K562   MTS       BioTek     ...        A   3  Nilotinib         1   \n",
        "3     K562   MTS       BioTek     ...        A   4  Nilotinib         1   \n",
        "4     K562   MTS       BioTek     ...        A   5  Nilotinib         1   \n",
        "\n",
        "   Concentration  value  Unit normValue  pos_control  median_DMSO  \n",
        "0      10.000000  0.206    uM   -0.4152       0.4925         0.69  \n",
        "1       3.333333  0.202    uM   -0.4210       0.4925         0.69  \n",
        "2       1.111111  0.187    uM   -0.4428       0.4925         0.69  \n",
        "3       0.370370  0.187    uM   -0.4428       0.4925         0.69  \n",
        "4       0.123457  0.188    uM   -0.4413       0.4925         0.69  \n",
        "\n",
        "[5 rows x 21 columns]"
       ]
      }
     ],
     "prompt_number": 11
    },
    {
     "cell_type": "markdown",
     "metadata": {},
     "source": [
      "### Upload to Synapse"
     ]
    },
    {
     "cell_type": "code",
     "collapsed": false,
     "input": [
      "outfile = 'OHSU_plates_run_at_OHSU_rawData.tsv'\n",
      "OHSU_plates_data.to_csv(outfile, sep = '\\t', index=False)\n",
      "syn.store(synapseclient.File(outfile, parentId = 'syn3458175'),\n",
      "          used = 'https://app.box.com/files/0/f/3201642095/OHSU_Raw_Plate_Reader_Data',\n",
      "          executed = '')\n",
      "!rm $outfile"
     ],
     "language": "python",
     "metadata": {},
     "outputs": [
      {
       "output_type": "stream",
       "stream": "stdout",
       "text": [
        "\n",
        "##################################################\n",
        "Uploading file to Synapse storage\n",
        "##################################################\n",
        "."
       ]
      },
      {
       "output_type": "stream",
       "stream": "stdout",
       "text": [
        "."
       ]
      },
      {
       "output_type": "stream",
       "stream": "stdout",
       "text": [
        ","
       ]
      },
      {
       "output_type": "stream",
       "stream": "stdout",
       "text": [
        "!"
       ]
      },
      {
       "output_type": "stream",
       "stream": "stdout",
       "text": [
        "!"
       ]
      },
      {
       "output_type": "stream",
       "stream": "stdout",
       "text": [
        "!\n"
       ]
      },
      {
       "output_type": "stream",
       "stream": "stdout",
       "text": [
        "Upload completed in 9 seconds.\n"
       ]
      }
     ],
     "prompt_number": 19
    },
    {
     "cell_type": "code",
     "collapsed": false,
     "input": [],
     "language": "python",
     "metadata": {},
     "outputs": []
    }
   ],
   "metadata": {}
  }
 ]
}