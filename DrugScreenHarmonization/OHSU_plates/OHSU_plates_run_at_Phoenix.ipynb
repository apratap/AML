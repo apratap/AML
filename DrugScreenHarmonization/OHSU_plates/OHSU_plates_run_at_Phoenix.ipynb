{
 "metadata": {
  "name": "",
  "signature": "sha256:dba3f7f93758a5338446bba7ddadc47b277ab75156406bd216db2ee6bffa23e9"
 },
 "nbformat": 3,
 "nbformat_minor": 0,
 "worksheets": [
  {
   "cells": [
    {
     "cell_type": "code",
     "collapsed": false,
     "input": [
      "import pandas as pd\n",
      "import sys\n",
      "import os\n",
      "import synapseclient\n",
      "import itertools\n",
      "import numpy as np\n",
      "import re"
     ],
     "language": "python",
     "metadata": {},
     "outputs": [],
     "prompt_number": 1
    },
    {
     "cell_type": "code",
     "collapsed": false,
     "input": [
      "sys.path.append(\"/Users/apratap/dev/appys/lib/\")\n",
      "import synapseutils\n",
      "import utils"
     ],
     "language": "python",
     "metadata": {},
     "outputs": [],
     "prompt_number": 2
    },
    {
     "cell_type": "code",
     "collapsed": false,
     "input": [
      "syn = synapseclient.login()"
     ],
     "language": "python",
     "metadata": {},
     "outputs": [
      {
       "output_type": "stream",
       "stream": "stdout",
       "text": [
        "Welcome, Abhishek Pratap!\n"
       ]
      }
     ],
     "prompt_number": 3
    },
    {
     "cell_type": "markdown",
     "metadata": {},
     "source": [
      "### Source the functions for processing OHSU plates"
     ]
    },
    {
     "cell_type": "code",
     "collapsed": false,
     "input": [
      "%run OHSU_plateMaps.ipynb"
     ],
     "language": "python",
     "metadata": {},
     "outputs": [],
     "prompt_number": 4
    },
    {
     "cell_type": "markdown",
     "metadata": {},
     "source": [
      "### OHSU plates done at Phoenix "
     ]
    },
    {
     "cell_type": "code",
     "collapsed": false,
     "input": [
      "dataFiles = utils.get_FilesList(\"/Users/apratap/Box Sync/AML_federation/Drug screens/Data/OHSU Plates/Phoenix Raw Plate Reader Data\",\n",
      "                                pattern = '_RAW.xlsx')"
     ],
     "language": "python",
     "metadata": {},
     "outputs": [
      {
       "output_type": "stream",
       "stream": "stdout",
       "text": [
        "[get_FilesList]: Found 12 files at /Users/apratap/Box Sync/AML_federation/Drug screens/Data/OHSU Plates/Phoenix Raw Plate Reader Data\n"
       ]
      }
     ],
     "prompt_number": 5
    },
    {
     "cell_type": "markdown",
     "metadata": {},
     "source": [
      "#### Create the meta data from filenames"
     ]
    },
    {
     "cell_type": "code",
     "collapsed": false,
     "input": [
      "mdata = [ os.path.basename(x).replace('_RAW.xlsx','').split('_') for x in dataFiles ] \n",
      "mdata = pd.DataFrame.from_records(mdata, \n",
      "                                  columns=['plate_origin', 'plate_v1', 'plate_v2',\n",
      "                                           'run_at', 'run_by', 'run_date', 'cellLine',\n",
      "                                           'set', 'assay', 'plate_reader', 'read_time'])\n",
      "mdata['plate_version']  = mdata['plate_v1'] + '_' + mdata['plate_v2']\n",
      "mdata.drop(['plate_v1' ,'plate_v2'], axis=1, inplace=True)\n",
      "mdata['file'] = dataFiles"
     ],
     "language": "python",
     "metadata": {},
     "outputs": [],
     "prompt_number": 6
    },
    {
     "cell_type": "code",
     "collapsed": false,
     "input": [
      "mdata.plate_reader = mdata.plate_reader.map(lambda x: re.sub('\\d+','',x))\n",
      "mdata.assay = mdata.assay.map(lambda x: re.sub('\\d+','',x))"
     ],
     "language": "python",
     "metadata": {},
     "outputs": [],
     "prompt_number": 7
    },
    {
     "cell_type": "markdown",
     "metadata": {},
     "source": [
      "#### Method to read data from excel files which are coming from 'PAR1' plate reader"
     ]
    },
    {
     "cell_type": "code",
     "collapsed": false,
     "input": [
      "def process_PAR1_plate_reader(dataFile):\n",
      "    \n",
      "    def process_block(block, plateNum):\n",
      "        #from each block extract everything from row 2 and column 2 onwards\n",
      "        temp_df = block.iloc[2:,2:].reset_index(drop=True)\n",
      "        #check for any errors\n",
      "        error_msg = check_plate_structure(temp_df)\n",
      "        if error_msg is not None:\n",
      "            raise Exception(error_msg)\n",
      "            \n",
      "        #label the df\n",
      "        temp_df = label_plate(temp_df)\n",
      "        temp_df['row'] = temp_df.index\n",
      "        temp_df = pd.melt( temp_df, id_vars = ['row'], var_name='col')\n",
      "        temp_df['plateNum'] = plateNum\n",
      "        return temp_df\n",
      "    \n",
      "    df = pd.read_excel(dataFile)\n",
      "\n",
      "    #get the ending index of each block in the excel sheet based on where the end is found \n",
      "    split_loc = df[df.iloc[:,0].str.contains('end',case=False) == True].index.tolist()\n",
      "\n",
      "    #add the start position in the beginning\n",
      "    split_loc.insert(0,0)\n",
      "\n",
      "    #gather the location of 3 blocks on the excel sheet\n",
      "    split_loc = [ split_loc[set:set+2] for set in range(len(split_loc)-1)]\n",
      "\n",
      "    #extract the 3 blocks from the single excel sheet data frame\n",
      "    df_blocks = [df.iloc[range(*region)].reset_index(drop=True) for region in split_loc]\n",
      "    \n",
      "    #from each block remove rows which have > 50% rows blank\n",
      "    df_blocks = [block.dropna(how='any', thresh = 12) for block in df_blocks]\n",
      "    \n",
      "    #process each block\n",
      "    df_blocks = [process_block(block,plateNum+1) for plateNum,block in enumerate(df_blocks)]\n",
      "    \n",
      "    #merge blocks\n",
      "    df = pd.concat(df_blocks, axis=0)\n",
      "    \n",
      "    return df"
     ],
     "language": "python",
     "metadata": {},
     "outputs": [],
     "prompt_number": 8
    },
    {
     "cell_type": "markdown",
     "metadata": {},
     "source": [
      "#### Method to read data from excel files which are coming from 'ENV1' plate reader"
     ]
    },
    {
     "cell_type": "code",
     "collapsed": false,
     "input": [
      "def process_ENV1_plate_reader(dataFile):    \n",
      "    sheets = pd.ExcelFile(dataFile).sheet_names\n",
      "    data = pd.DataFrame()\n",
      "    for i,sheet in enumerate(sheets):\n",
      "        plateNum = i + 1\n",
      "        df = pd.read_excel(dataFile, sheet)\n",
      "        df = df.iloc[9:25,1:]\n",
      "        error_msg = check_plate_structure(df)\n",
      "        if error_msg is not None:\n",
      "            raise Exception(error_msg)\n",
      "        df = label_plate(df)\n",
      "        df['row'] = df.index\n",
      "        df = pd.melt( df, id_vars = ['row'], var_name='col')\n",
      "        df['plateNum'] = plateNum\n",
      "        data = data.append(df)\n",
      "        \n",
      "    return data"
     ],
     "language": "python",
     "metadata": {},
     "outputs": [],
     "prompt_number": 9
    },
    {
     "cell_type": "markdown",
     "metadata": {},
     "source": [
      "## Read all the data"
     ]
    },
    {
     "cell_type": "code",
     "collapsed": false,
     "input": [
      "OHSU_plates_data = list()\n",
      "\n",
      "for num,row in mdata.iterrows():\n",
      "    if row.plate_reader == 'ENV':\n",
      "        data = process_ENV1_plate_reader(row.file)\n",
      "    elif row.plate_reader == 'PAR':\n",
      "        data = process_PAR1_plate_reader(row.file)\n",
      "    else:\n",
      "        print 'Error: cant process the plate reader %s' % row.plate_reader\n",
      "        break\n",
      "\n",
      "    #add the metadata to processed raw data\n",
      "    for key,val in row.iterkv():\n",
      "        data[key]=val\n",
      "    OHSU_plates_data.append(data)\n",
      "\n",
      "\n",
      "#final pandas df\n",
      "OHSU_plates_data  = pd.concat(OHSU_plates_data, axis=0)"
     ],
     "language": "python",
     "metadata": {},
     "outputs": [],
     "prompt_number": 10
    },
    {
     "cell_type": "markdown",
     "metadata": {},
     "source": [
      "#### Merge with right version of plate maps"
     ]
    },
    {
     "cell_type": "code",
     "collapsed": false,
     "input": [
      "OHSU_plates_data = pd.merge(OHSU_v6_plateMap,OHSU_plates_data, how='right', \n",
      "                            left_on = ['plate_version','Plate_Num', 'Well_Row', 'Well_Column'],\n",
      "                            right_on = ['plate_version', 'plateNum' ,'row', 'col'])"
     ],
     "language": "python",
     "metadata": {},
     "outputs": [],
     "prompt_number": 11
    },
    {
     "cell_type": "code",
     "collapsed": false,
     "input": [
      "OHSU_plates_data.head()"
     ],
     "language": "python",
     "metadata": {},
     "outputs": [
      {
       "html": [
        "<div style=\"max-height:1000px;max-width:1500px;overflow:auto;\">\n",
        "<table border=\"1\" class=\"dataframe\">\n",
        "  <thead>\n",
        "    <tr style=\"text-align: right;\">\n",
        "      <th></th>\n",
        "      <th>Inhibitor_Panel</th>\n",
        "      <th>Plate_Num</th>\n",
        "      <th>Well_Row</th>\n",
        "      <th>Well_Column</th>\n",
        "      <th>Drug</th>\n",
        "      <th>Replicant</th>\n",
        "      <th>Concentration</th>\n",
        "      <th>Unit</th>\n",
        "      <th>plate_version</th>\n",
        "      <th>row</th>\n",
        "      <th>...</th>\n",
        "      <th>plate_origin</th>\n",
        "      <th>run_at</th>\n",
        "      <th>run_by</th>\n",
        "      <th>run_date</th>\n",
        "      <th>cellLine</th>\n",
        "      <th>set</th>\n",
        "      <th>assay</th>\n",
        "      <th>plate_reader</th>\n",
        "      <th>read_time</th>\n",
        "      <th>file</th>\n",
        "    </tr>\n",
        "  </thead>\n",
        "  <tbody>\n",
        "    <tr>\n",
        "      <th>0</th>\n",
        "      <td> MarcTest 384 123v6</td>\n",
        "      <td> 1</td>\n",
        "      <td> A</td>\n",
        "      <td> 1</td>\n",
        "      <td> Nilotinib</td>\n",
        "      <td> 1</td>\n",
        "      <td> 10</td>\n",
        "      <td> uM</td>\n",
        "      <td> MarcTest123_v6</td>\n",
        "      <td> A</td>\n",
        "      <td>...</td>\n",
        "      <td> OHSU</td>\n",
        "      <td> Phoenix</td>\n",
        "      <td> DA</td>\n",
        "      <td> 01-20-15</td>\n",
        "      <td> K562</td>\n",
        "      <td> set1</td>\n",
        "      <td> MTS</td>\n",
        "      <td> ENV</td>\n",
        "      <td> 1hr</td>\n",
        "      <td> /Users/apratap/Box Sync/AML_federation/Drug sc...</td>\n",
        "    </tr>\n",
        "    <tr>\n",
        "      <th>1</th>\n",
        "      <td> MarcTest 384 123v6</td>\n",
        "      <td> 1</td>\n",
        "      <td> A</td>\n",
        "      <td> 1</td>\n",
        "      <td> Nilotinib</td>\n",
        "      <td> 1</td>\n",
        "      <td> 10</td>\n",
        "      <td> uM</td>\n",
        "      <td> MarcTest123_v6</td>\n",
        "      <td> A</td>\n",
        "      <td>...</td>\n",
        "      <td> OHSU</td>\n",
        "      <td> Phoenix</td>\n",
        "      <td> DA</td>\n",
        "      <td> 01-20-15</td>\n",
        "      <td> K562</td>\n",
        "      <td> set1</td>\n",
        "      <td> MTS</td>\n",
        "      <td> PAR</td>\n",
        "      <td> 1hr</td>\n",
        "      <td> /Users/apratap/Box Sync/AML_federation/Drug sc...</td>\n",
        "    </tr>\n",
        "    <tr>\n",
        "      <th>2</th>\n",
        "      <td> MarcTest 384 123v6</td>\n",
        "      <td> 1</td>\n",
        "      <td> A</td>\n",
        "      <td> 1</td>\n",
        "      <td> Nilotinib</td>\n",
        "      <td> 1</td>\n",
        "      <td> 10</td>\n",
        "      <td> uM</td>\n",
        "      <td> MarcTest123_v6</td>\n",
        "      <td> A</td>\n",
        "      <td>...</td>\n",
        "      <td> OHSU</td>\n",
        "      <td> Phoenix</td>\n",
        "      <td> DA</td>\n",
        "      <td> 01-27-15</td>\n",
        "      <td> K562</td>\n",
        "      <td> set2</td>\n",
        "      <td> MTS</td>\n",
        "      <td> ENV</td>\n",
        "      <td> 1hr</td>\n",
        "      <td> /Users/apratap/Box Sync/AML_federation/Drug sc...</td>\n",
        "    </tr>\n",
        "    <tr>\n",
        "      <th>3</th>\n",
        "      <td> MarcTest 384 123v6</td>\n",
        "      <td> 1</td>\n",
        "      <td> A</td>\n",
        "      <td> 1</td>\n",
        "      <td> Nilotinib</td>\n",
        "      <td> 1</td>\n",
        "      <td> 10</td>\n",
        "      <td> uM</td>\n",
        "      <td> MarcTest123_v6</td>\n",
        "      <td> A</td>\n",
        "      <td>...</td>\n",
        "      <td> OHSU</td>\n",
        "      <td> Phoenix</td>\n",
        "      <td> DA</td>\n",
        "      <td> 01-27-15</td>\n",
        "      <td> K562</td>\n",
        "      <td> set2</td>\n",
        "      <td> MTS</td>\n",
        "      <td> PAR</td>\n",
        "      <td> 1hr</td>\n",
        "      <td> /Users/apratap/Box Sync/AML_federation/Drug sc...</td>\n",
        "    </tr>\n",
        "    <tr>\n",
        "      <th>4</th>\n",
        "      <td> MarcTest 384 123v6</td>\n",
        "      <td> 1</td>\n",
        "      <td> A</td>\n",
        "      <td> 1</td>\n",
        "      <td> Nilotinib</td>\n",
        "      <td> 1</td>\n",
        "      <td> 10</td>\n",
        "      <td> uM</td>\n",
        "      <td> MarcTest123_v6</td>\n",
        "      <td> A</td>\n",
        "      <td>...</td>\n",
        "      <td> OHSU</td>\n",
        "      <td> Phoenix</td>\n",
        "      <td> DA</td>\n",
        "      <td> 02-03-15</td>\n",
        "      <td> K562</td>\n",
        "      <td> set3</td>\n",
        "      <td> MTS</td>\n",
        "      <td> ENV</td>\n",
        "      <td> 4hr</td>\n",
        "      <td> /Users/apratap/Box Sync/AML_federation/Drug sc...</td>\n",
        "    </tr>\n",
        "  </tbody>\n",
        "</table>\n",
        "<p>5 rows \u00d7 23 columns</p>\n",
        "</div>"
       ],
       "metadata": {},
       "output_type": "pyout",
       "prompt_number": 12,
       "text": [
        "      Inhibitor_Panel  Plate_Num Well_Row  Well_Column       Drug  Replicant  \\\n",
        "0  MarcTest 384 123v6          1        A            1  Nilotinib          1   \n",
        "1  MarcTest 384 123v6          1        A            1  Nilotinib          1   \n",
        "2  MarcTest 384 123v6          1        A            1  Nilotinib          1   \n",
        "3  MarcTest 384 123v6          1        A            1  Nilotinib          1   \n",
        "4  MarcTest 384 123v6          1        A            1  Nilotinib          1   \n",
        "\n",
        "   Concentration Unit   plate_version row ... plate_origin   run_at  run_by  \\\n",
        "0             10   uM  MarcTest123_v6   A ...         OHSU  Phoenix      DA   \n",
        "1             10   uM  MarcTest123_v6   A ...         OHSU  Phoenix      DA   \n",
        "2             10   uM  MarcTest123_v6   A ...         OHSU  Phoenix      DA   \n",
        "3             10   uM  MarcTest123_v6   A ...         OHSU  Phoenix      DA   \n",
        "4             10   uM  MarcTest123_v6   A ...         OHSU  Phoenix      DA   \n",
        "\n",
        "   run_date cellLine   set assay plate_reader read_time  \\\n",
        "0  01-20-15     K562  set1   MTS          ENV       1hr   \n",
        "1  01-20-15     K562  set1   MTS          PAR       1hr   \n",
        "2  01-27-15     K562  set2   MTS          ENV       1hr   \n",
        "3  01-27-15     K562  set2   MTS          PAR       1hr   \n",
        "4  02-03-15     K562  set3   MTS          ENV       4hr   \n",
        "\n",
        "                                                file  \n",
        "0  /Users/apratap/Box Sync/AML_federation/Drug sc...  \n",
        "1  /Users/apratap/Box Sync/AML_federation/Drug sc...  \n",
        "2  /Users/apratap/Box Sync/AML_federation/Drug sc...  \n",
        "3  /Users/apratap/Box Sync/AML_federation/Drug sc...  \n",
        "4  /Users/apratap/Box Sync/AML_federation/Drug sc...  \n",
        "\n",
        "[5 rows x 23 columns]"
       ]
      }
     ],
     "prompt_number": 12
    },
    {
     "cell_type": "markdown",
     "metadata": {},
     "source": [
      "### Normalize the plate data"
     ]
    },
    {
     "cell_type": "code",
     "collapsed": false,
     "input": [
      "def calc_norm_factors(df):\n",
      "    \n",
      "    #taking mean of positive control on this plate\n",
      "    pos_control = df.query('row == \"H\" & (col == 8|col == 16)')['value'].mean()\n",
      "    \n",
      "    #ANYTHING EXCEPT ROW H FOR COL 8 AND 16 AND ALL ROWS FOR COL 24\n",
      "    median_DMSO_col8 = df.query('row != \"H\" & col == 8')['value'].tolist()\n",
      "    median_DMSO_col16 = df.query('row != \"H\" & col == 16')['value'].tolist()\n",
      "    median_DMSO_col24 = df.query('col == 24')['value'].tolist()\n",
      "    median_DMSO = np.median(median_DMSO_col8 + median_DMSO_col16 + median_DMSO_col24)\n",
      "    return pd.DataFrame({'pos_control': [pos_control], 'median_DMSO': [median_DMSO]})\n",
      "\n",
      "\n",
      "grp = OHSU_plates_data.groupby(['plate_version', 'plate_origin' ,'run_at','assay', 'plateNum' , 'cellLine' , \n",
      "                                'plate_reader' ,'read_time', 'set'])\n",
      "norm_factors = grp.apply(calc_norm_factors).reset_index()\n",
      "\n",
      "\n",
      "#merge the normFactors\n",
      "OHSU_plates_data = pd.merge(OHSU_plates_data, norm_factors)\n",
      "\n",
      "#normValue\n",
      "OHSU_plates_data['normValue'] = (OHSU_plates_data.value - OHSU_plates_data.pos_control) / OHSU_plates_data.median_DMSO\n",
      "OHSU_plates_data.normValue = OHSU_plates_data.normValue.map(lambda x: np.around(x, 4))"
     ],
     "language": "python",
     "metadata": {},
     "outputs": [],
     "prompt_number": 13
    },
    {
     "cell_type": "code",
     "collapsed": false,
     "input": [
      "required_columns = ['plate_version', 'plateNum','plate_origin' , 'run_at' ,'run_by' ,'run_date', 'set' ,'cellLine' ,'assay' ,\n",
      "                    'plate_reader', 'read_time' , 'row' ,'col', 'Drug', 'Replicant', 'Concentration', 'value', 'Unit', \n",
      "                    'normValue' , 'pos_control' ,'median_DMSO']\n",
      "OHSU_plates_data = OHSU_plates_data[required_columns]"
     ],
     "language": "python",
     "metadata": {},
     "outputs": [],
     "prompt_number": 14
    },
    {
     "cell_type": "markdown",
     "metadata": {},
     "source": [
      "### Upload to Synapse"
     ]
    },
    {
     "cell_type": "code",
     "collapsed": false,
     "input": [
      "outfile = 'OHSU_plates_run_at_Phoenix_rawData.tsv'\n",
      "OHSU_plates_data.to_csv(outfile, sep = '\\t', index=False, float_format = '%0.5f')\n",
      "syn.store(synapseclient.File(outfile, parentId = 'syn3458175'),\n",
      "          used = 'https://app.box.com/files/0/f/3201657035/FIMM_Raw_Plate_Reader_Data',\n",
      "          executed ='https://github.com/apratap/AML/blob/master/DrugScreenHarmonization/OHSU_plates/OHSU_plates_run_at_FIMM.ipynb')\n",
      "!rm $outfile)\n",
      "!rm $outfile"
     ],
     "language": "python",
     "metadata": {},
     "outputs": [
      {
       "output_type": "stream",
       "stream": "stdout",
       "text": [
        "\n",
        "##################################################\n",
        "Uploading file to Synapse storage\n",
        "##################################################\n",
        "."
       ]
      },
      {
       "output_type": "stream",
       "stream": "stdout",
       "text": [
        "."
       ]
      },
      {
       "output_type": "stream",
       "stream": "stdout",
       "text": [
        ","
       ]
      },
      {
       "output_type": "stream",
       "stream": "stdout",
       "text": [
        "!"
       ]
      },
      {
       "output_type": "stream",
       "stream": "stdout",
       "text": [
        "!"
       ]
      },
      {
       "output_type": "stream",
       "stream": "stdout",
       "text": [
        "!\n"
       ]
      },
      {
       "output_type": "stream",
       "stream": "stdout",
       "text": [
        "Upload completed in 6 seconds.\n"
       ]
      }
     ],
     "prompt_number": 15
    },
    {
     "cell_type": "code",
     "collapsed": false,
     "input": [],
     "language": "python",
     "metadata": {},
     "outputs": []
    }
   ],
   "metadata": {}
  }
 ]
}