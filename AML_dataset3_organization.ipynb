{
 "metadata": {
  "name": "",
  "signature": "sha256:0da03a0e965dd28ea27fd3673b70ede3220a4d545901294e2b675f0ac646cf1f"
 },
 "nbformat": 3,
 "nbformat_minor": 0,
 "worksheets": [
  {
   "cells": [
    {
     "cell_type": "code",
     "collapsed": false,
     "input": [
      "import os\n",
      "import sys\n",
      "import re\n",
      "import pandas\n",
      "\n",
      "%load_ext autoreload\n",
      "%autoreload 2\n",
      "sys.path.append(os.environ['HOME'] + \"/dev/appys/lib/\")\n",
      "import utils\n",
      "import mappers\n",
      "import read_counters\n",
      "import synapseutils"
     ],
     "language": "python",
     "metadata": {},
     "outputs": [
      {
       "output_type": "stream",
       "stream": "stdout",
       "text": [
        "The autoreload extension is already loaded. To reload it, use:\n",
        "  %reload_ext autoreload\n"
       ]
      }
     ],
     "prompt_number": 100
    },
    {
     "cell_type": "code",
     "collapsed": false,
     "input": [
      "data_dir = \"/scratch/DAT_118/\""
     ],
     "language": "python",
     "metadata": {},
     "outputs": [],
     "prompt_number": 42
    },
    {
     "cell_type": "markdown",
     "metadata": {},
     "source": [
      "### Merge all the reads for each sample into single read 1 and read 2 fastq file"
     ]
    },
    {
     "cell_type": "code",
     "collapsed": false,
     "input": [
      "for sample_dir in utils.get_Dirslist(data_dir,\"Sample_RNA\"):\n",
      "    \n",
      "    print sample_dir \n",
      "    sample_name = os.path.basename(sample_dir)\n",
      "    out_file_read1 = sample_dir + '/' + os.path.basename(sample_dir) + '_merged_read1.fastq.gz'\n",
      "    out_file_read1_log = sample_dir + '/' + os.path.basename(sample_dir) + '_merged_read1.log'\n",
      "    out_file_read2 = sample_dir + '/' + os.path.basename(sample_dir) + '_merged_read2.fastq.gz'\n",
      "    out_file_read2_log = sample_dir + '/' + os.path.basename(sample_dir) + '_merged_read2.log'\n",
      "    read1_files = utils.get_FilesList(sample_dir,pattern='R1')\n",
      "    read2_files = [ x.replace('R1','R2') for x in read1_files ]\n",
      "    read1_files_line = ' '.join(read1_files)\n",
      "    read2_files_line = ' '.join(read2_files)\n",
      "    \n",
      "    x = ! qsub -V -cwd -b yes -j yes  -o $out_file_read1 -e out_file_read1_log cat $read1_files_line  \n",
      "    x = ! qsub -V -cwd -b yes -j yes  -o $out_file_read2 -e out_file_read2_log cat $read2_files_line"
     ],
     "language": "python",
     "metadata": {},
     "outputs": []
    },
    {
     "cell_type": "markdown",
     "metadata": {},
     "source": [
      "### Delete the split fastq files"
     ]
    },
    {
     "cell_type": "code",
     "collapsed": false,
     "input": [
      "x_ = [ os.remove(f) for f in utils.get_FilesList(data_dir,\"R1\")]\n",
      "x_ = [ os.remove(f) for f in utils.get_FilesList(data_dir,\"R2\")]"
     ],
     "language": "python",
     "metadata": {},
     "outputs": [
      {
       "output_type": "stream",
       "stream": "stdout",
       "text": [
        "[get_FilesList]: Found 0 files at /scratch/DAT_118/\n",
        "[get_FilesList]: Found 1300 files at /scratch/DAT_118/"
       ]
      },
      {
       "output_type": "stream",
       "stream": "stdout",
       "text": [
        "\n"
       ]
      }
     ],
     "prompt_number": 90
    },
    {
     "cell_type": "markdown",
     "metadata": {},
     "source": [
      "### Map reads with STAR"
     ]
    },
    {
     "cell_type": "code",
     "collapsed": false,
     "input": [
      "for sample_dir in utils.get_Dirslist(data_dir,\"Sample_RNA\"):\n",
      "    sample_name = os.path.basename(sample_dir)\n",
      "    read1_file = utils.get_FilesList(sample_dir,pattern='read1')[0]\n",
      "    read2_file = utils.get_FilesList(sample_dir,pattern='read2')[0]\n",
      "    ! qsub -V -cwd -b yes -j yes -l h_vmem=40G -pe threads 4 -N $sample_name \"/home/apratap/dev/appys/src/map_reads.py star --gi /external-data/Genome/indicies/Hsapiens_UCSC_hg19_STAR/hg19_Gencode19 -c 4 -o $sample_dir -p star_mapped --r1 $read1_file --r2 $read2_file --optional_args='--readFilesCommand zcat'\""
     ],
     "language": "python",
     "metadata": {},
     "outputs": []
    },
    {
     "cell_type": "markdown",
     "metadata": {},
     "source": [
      "### Also delete the merged fastq now that bams are available"
     ]
    },
    {
     "cell_type": "code",
     "collapsed": false,
     "input": [
      "#// TBD"
     ],
     "language": "python",
     "metadata": {},
     "outputs": []
    },
    {
     "cell_type": "markdown",
     "metadata": {},
     "source": [
      "### Generate mapping summary"
     ]
    },
    {
     "cell_type": "code",
     "collapsed": false,
     "input": [
      "star_algn_summary_files = utils.get_FilesList(data_dir, 'Log.final.out')\n",
      "star_stats  = mappers.get_star_alignSummary(star_algn_summary_files)\n",
      "star_stats.columns = star_stats.columns.map(lambda x: re.search('^.*(RNA.*)/star.*$',x).group(1).split('_')[2])\n",
      "ax = star_stats.ix['Number of input reads'].astype(float).plot(kind='bar',fontsize=6,figsize=(15,10),color='#fbb4ae')\n",
      "ax.xaxis.grid(False)"
     ],
     "language": "python",
     "metadata": {},
     "outputs": [
      {
       "output_type": "stream",
       "stream": "stdout",
       "text": [
        "[get_FilesList]: Found 120 files at /scratch/DAT_118/\n"
       ]
      },
      {
       "metadata": {},
       "output_type": "display_data",
       "png": "[encoded data removed]",
       "text": [
        "<matplotlib.figure.Figure at 0xf13ad50>"
       ]
      }
     ],
     "prompt_number": 58
    },
    {
     "cell_type": "markdown",
     "metadata": {},
     "source": [
      "### Name sort bams for memory efficient counting by HTSeq"
     ]
    },
    {
     "cell_type": "code",
     "collapsed": false,
     "input": [
      "for bam in utils.get_FilesList(data_dir,\"Aligned.*bam$\"):\n",
      "    prefix = bam.replace('.bam','.namesorted.bam')\n",
      "    ! qsub -V -b yes -j yes \"samtools sort -n $bam $prefix\""
     ],
     "language": "python",
     "metadata": {},
     "outputs": []
    },
    {
     "cell_type": "markdown",
     "metadata": {},
     "source": [
      "\n",
      "###Count reads / gene"
     ]
    },
    {
     "cell_type": "code",
     "collapsed": false,
     "input": [
      "for bam in utils.get_FilesList(data_dir,\".*namesorted.bam.bam\"):\n",
      "    count_file = bam.replace('namesorted.bam.bam','htseq-counts.txt')\n",
      "    ! qsub -V -b yes -j yes -l h_vmem=15G \"htseq-count -r name -f bam -s no -q $bam /home/apratap/reference/hg19/Hsapiens_UCSC_hg19.gtf > $count_file\""
     ],
     "language": "python",
     "metadata": {},
     "outputs": []
    },
    {
     "cell_type": "markdown",
     "metadata": {},
     "source": [
      "### create expression matrix of read counts"
     ]
    },
    {
     "cell_type": "code",
     "collapsed": false,
     "input": [
      "counts_files = utils.get_FilesList(data_dir,\"Aligned.out.htseq-counts.txt\")\n",
      "final_counts = read_counters.merge_htseq_counts(counts_files)\n",
      "final_counts.columns = final_counts.columns.map(lambda x: re.search('^.*(RNA.*)/star.*$',x).group(1).split('_')[2])"
     ],
     "language": "python",
     "metadata": {},
     "outputs": [
      {
       "output_type": "stream",
       "stream": "stdout",
       "text": [
        "[get_FilesList]: Found 120 files at /scratch/DAT_118/\n"
       ]
      }
     ],
     "prompt_number": 79
    },
    {
     "cell_type": "code",
     "collapsed": false,
     "input": [
      "sample_annotation_df = pandas.read_excel(\"/scratch/DAT_118/annotation/Sample_annotation.xlsx\", sheetname=\"Main Report\")"
     ],
     "language": "python",
     "metadata": {},
     "outputs": [],
     "prompt_number": 21
    },
    {
     "cell_type": "code",
     "collapsed": false,
     "input": [
      "sample_annotation_df.head()"
     ],
     "language": "python",
     "metadata": {},
     "outputs": [
      {
       "html": [
        "<div style=\"max-height:1000px;max-width:1500px;overflow:auto;\">\n",
        "<table border=\"1\" class=\"dataframe\">\n",
        "  <thead>\n",
        "    <tr style=\"text-align: right;\">\n",
        "      <th></th>\n",
        "      <th>Patient ID</th>\n",
        "      <th>Lab ID</th>\n",
        "      <th>Diagnosis</th>\n",
        "      <th>Specific Diagnosis</th>\n",
        "      <th>Secondary Classification</th>\n",
        "    </tr>\n",
        "  </thead>\n",
        "  <tbody>\n",
        "    <tr>\n",
        "      <th>0</th>\n",
        "      <td> 1413</td>\n",
        "      <td> 04-00243</td>\n",
        "      <td> MYELOPROLIFERATIVE NEOPLASMS</td>\n",
        "      <td> Chronic myelogenous leukaemia, BCR-ABL1 positive</td>\n",
        "      <td> NaN</td>\n",
        "    </tr>\n",
        "    <tr>\n",
        "      <th>1</th>\n",
        "      <td> 1414</td>\n",
        "      <td> 04-00274</td>\n",
        "      <td> MYELOPROLIFERATIVE NEOPLASMS</td>\n",
        "      <td> Chronic myelogenous leukaemia, BCR-ABL1 positive</td>\n",
        "      <td> NaN</td>\n",
        "    </tr>\n",
        "    <tr>\n",
        "      <th>2</th>\n",
        "      <td> 1415</td>\n",
        "      <td> 05-00100</td>\n",
        "      <td> MYELOPROLIFERATIVE NEOPLASMS</td>\n",
        "      <td> Chronic myelogenous leukaemia, BCR-ABL1 positive</td>\n",
        "      <td> NaN</td>\n",
        "    </tr>\n",
        "    <tr>\n",
        "      <th>3</th>\n",
        "      <td> 1417</td>\n",
        "      <td> 05-00106</td>\n",
        "      <td> MYELOPROLIFERATIVE NEOPLASMS</td>\n",
        "      <td> Chronic myelogenous leukaemia, BCR-ABL1 positive</td>\n",
        "      <td> NaN</td>\n",
        "    </tr>\n",
        "    <tr>\n",
        "      <th>4</th>\n",
        "      <td> 1418</td>\n",
        "      <td> 05-00123</td>\n",
        "      <td> MYELOPROLIFERATIVE NEOPLASMS</td>\n",
        "      <td> Chronic myelogenous leukaemia, BCR-ABL1 positive</td>\n",
        "      <td> NaN</td>\n",
        "    </tr>\n",
        "  </tbody>\n",
        "</table>\n",
        "<p>5 rows \u00d7 5 columns</p>\n",
        "</div>"
       ],
       "metadata": {},
       "output_type": "pyout",
       "prompt_number": 22,
       "text": [
        "   Patient ID    Lab ID                     Diagnosis  \\\n",
        "0        1413  04-00243  MYELOPROLIFERATIVE NEOPLASMS   \n",
        "1        1414  04-00274  MYELOPROLIFERATIVE NEOPLASMS   \n",
        "2        1415  05-00100  MYELOPROLIFERATIVE NEOPLASMS   \n",
        "3        1417  05-00106  MYELOPROLIFERATIVE NEOPLASMS   \n",
        "4        1418  05-00123  MYELOPROLIFERATIVE NEOPLASMS   \n",
        "\n",
        "                                 Specific Diagnosis Secondary Classification  \n",
        "0  Chronic myelogenous leukaemia, BCR-ABL1 positive                      NaN  \n",
        "1  Chronic myelogenous leukaemia, BCR-ABL1 positive                      NaN  \n",
        "2  Chronic myelogenous leukaemia, BCR-ABL1 positive                      NaN  \n",
        "3  Chronic myelogenous leukaemia, BCR-ABL1 positive                      NaN  \n",
        "4  Chronic myelogenous leukaemia, BCR-ABL1 positive                      NaN  \n",
        "\n",
        "[5 rows x 5 columns]"
       ]
      }
     ],
     "prompt_number": 22
    },
    {
     "cell_type": "markdown",
     "metadata": {},
     "source": [
      "### Upload to synapse"
     ]
    },
    {
     "cell_type": "code",
     "collapsed": false,
     "input": [
      "import synapseclient\n",
      "syn = synapseclient.login()"
     ],
     "language": "python",
     "metadata": {},
     "outputs": [
      {
       "output_type": "stream",
       "stream": "stdout",
       "text": [
        "Welcome, apratap@sagebase.org!\n"
       ]
      }
     ],
     "prompt_number": 94
    },
    {
     "cell_type": "code",
     "collapsed": false,
     "input": [
      "parentId = 'syn2325149'\n",
      "dset3_folder = syn.store(synapseclient.Folder('Dataset3_OHSU', parentId = parentId))\n",
      "\n",
      "for f in utils.get_FilesList(\"/scratch/DAT_118/annotation/\"):\n",
      "    syn.store(synapseclient.File(f,parentId=dset3_folder.id))"
     ],
     "language": "python",
     "metadata": {},
     "outputs": [
      {
       "output_type": "stream",
       "stream": "stdout",
       "text": [
        "[get_FilesList]: Found 3 files at /scratch/DAT_118/annotation/\n",
        "."
       ]
      },
      {
       "output_type": "stream",
       "stream": "stdout",
       "text": [
        "."
       ]
      },
      {
       "output_type": "stream",
       "stream": "stdout",
       "text": [
        ","
       ]
      },
      {
       "output_type": "stream",
       "stream": "stdout",
       "text": [
        "!"
       ]
      },
      {
       "output_type": "stream",
       "stream": "stdout",
       "text": [
        "!\n"
       ]
      },
      {
       "output_type": "stream",
       "stream": "stdout",
       "text": [
        "Upload completed in 3 seconds.\n",
        "."
       ]
      },
      {
       "output_type": "stream",
       "stream": "stdout",
       "text": [
        "."
       ]
      },
      {
       "output_type": "stream",
       "stream": "stdout",
       "text": [
        ","
       ]
      },
      {
       "output_type": "stream",
       "stream": "stdout",
       "text": [
        "!"
       ]
      },
      {
       "output_type": "stream",
       "stream": "stdout",
       "text": [
        "!\n"
       ]
      },
      {
       "output_type": "stream",
       "stream": "stdout",
       "text": [
        "Upload completed in 3 seconds.\n",
        "."
       ]
      },
      {
       "output_type": "stream",
       "stream": "stdout",
       "text": [
        "."
       ]
      },
      {
       "output_type": "stream",
       "stream": "stdout",
       "text": [
        ","
       ]
      },
      {
       "output_type": "stream",
       "stream": "stdout",
       "text": [
        "!"
       ]
      },
      {
       "output_type": "stream",
       "stream": "stdout",
       "text": [
        "!"
       ]
      },
      {
       "output_type": "stream",
       "stream": "stdout",
       "text": [
        "!"
       ]
      },
      {
       "output_type": "stream",
       "stream": "stdout",
       "text": [
        "!\n"
       ]
      },
      {
       "output_type": "stream",
       "stream": "stdout",
       "text": [
        "Upload completed in 7 seconds.\n"
       ]
      },
      {
       "output_type": "stream",
       "stream": "stderr",
       "text": [
        "[get_FilesList]: No pattern supplied..will return all the files"
       ]
      }
     ],
     "prompt_number": 106
    },
    {
     "cell_type": "code",
     "collapsed": false,
     "input": [
      "temp_file = \"dset3_OHSU_raw_expression_counts.csv\"\n",
      "final_counts.to_csv(temp_file,sep=\"\\t\")\n",
      "temp_x = syn.store(synapseclient.File(temp_file,parentId=parentId), executed=)\n",
      "os.remove(temp_file)"
     ],
     "language": "python",
     "metadata": {},
     "outputs": [
      {
       "output_type": "stream",
       "stream": "stdout",
       "text": [
        "."
       ]
      },
      {
       "output_type": "stream",
       "stream": "stdout",
       "text": [
        "."
       ]
      },
      {
       "output_type": "stream",
       "stream": "stdout",
       "text": [
        ","
       ]
      },
      {
       "output_type": "stream",
       "stream": "stdout",
       "text": [
        "."
       ]
      },
      {
       "output_type": "stream",
       "stream": "stdout",
       "text": [
        ","
       ]
      },
      {
       "output_type": "stream",
       "stream": "stdout",
       "text": [
        "!"
       ]
      },
      {
       "output_type": "stream",
       "stream": "stdout",
       "text": [
        "!"
       ]
      },
      {
       "output_type": "stream",
       "stream": "stdout",
       "text": [
        "!"
       ]
      },
      {
       "output_type": "stream",
       "stream": "stdout",
       "text": [
        "!"
       ]
      },
      {
       "output_type": "stream",
       "stream": "stdout",
       "text": [
        "!\n"
       ]
      },
      {
       "output_type": "stream",
       "stream": "stdout",
       "text": [
        "Upload completed in 8 seconds.\n"
       ]
      }
     ],
     "prompt_number": 112
    },
    {
     "cell_type": "code",
     "collapsed": false,
     "input": [],
     "language": "python",
     "metadata": {},
     "outputs": []
    }
   ],
   "metadata": {}
  }
 ]
}